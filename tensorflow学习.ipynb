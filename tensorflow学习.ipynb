{
 "cells": [
  {
   "cell_type": "markdown",
   "metadata": {},
   "source": [
    "# 入门\n",
    "### Hello World"
   ]
  },
  {
   "cell_type": "code",
   "execution_count": null,
   "metadata": {
    "collapsed": true
   },
   "outputs": [],
   "source": [
    "import tensorflow as tf\n",
    "c = tf.constant('hello')\n",
    "with tf.Session() as sess:\n",
    "    print(sess.run(c))"
   ]
  },
  {
   "cell_type": "markdown",
   "metadata": {},
   "source": [
    "### add与+的区别？\n",
    "实际上最终调用是一个函数，都到了gen_math_ops.add。\n",
    "tf.add直接调用库方法，+是重载了__add__符号，在tensorflow/python/ops/math_ops.py中定义了_OverrideBinaryOperatorHelper(gen_math_ops.add, \"add\")，也就是说最终还是调用了tf.add\n",
    "\n",
    "加载模块tensorflow/python/ops/math_ops.py\n",
    "```\n",
    "tensorflow/python/ops/math_ops.py： _OverrideBinaryOperatorHelper(gen_math_ops.add, \"add\") \n",
    "-> tensorflow/python/ops/math_ops.py： clazz_object._override_operator(\"__%s__\" % op_name, binary_op_wrapper) 在binary_op_wrapper中会实际调用gen_math_ops.add\n",
    "-> tensorflow/python/framework/ops.py： _override_helper(Tensor, operator, func)\n",
    "-> tensorflow/python/framework/ops.py： setattr(clazz_object, operator, func)\n",
    "```\n",
    "\n",
    "* Python 中的setattr有点像Ruby元编程中的动态方法，既可以是属性值，也可以是函数方法。setattr(obj, '__add__', add)也就是动态重载+运算符*\n",
    "\n",
    "所有重载的运算符在Tensor.OVERLOADABLE_OPERATORS:中进行了定义。\n",
    "\n",
    "参考：\n",
    "https://stackoverflow.com/questions/37900780/in-tensorflow-what-is-the-difference-between-tf-add-and-operator"
   ]
  },
  {
   "cell_type": "code",
   "execution_count": 20,
   "metadata": {},
   "outputs": [
    {
     "name": "stdout",
     "output_type": "stream",
     "text": [
      "3\n",
      "3\n"
     ]
    }
   ],
   "source": [
    "import tensorflow as tf\n",
    "a = tf.constant(1)\n",
    "b = tf.constant(2)\n",
    "with tf.Session() as sess:\n",
    "    print(sess.run(a+b))\n",
    "with tf.Session() as sess:\n",
    "    print(sess.run(tf.add(a,b)))"
   ]
  },
  {
   "cell_type": "markdown",
   "metadata": {
    "collapsed": true
   },
   "source": [
    "### 一个简单的线性模型"
   ]
  },
  {
   "cell_type": "code",
   "execution_count": 28,
   "metadata": {},
   "outputs": [
    {
     "name": "stdout",
     "output_type": "stream",
     "text": [
      "0 1.85624e+06 [ 26.77856827] [ 4.27478123]\n",
      "100 nan [ nan] [ nan]\n",
      "200 nan [ nan] [ nan]\n",
      "300 nan [ nan] [ nan]\n",
      "400 nan [ nan] [ nan]\n",
      "500 nan [ nan] [ nan]\n",
      "600 nan [ nan] [ nan]\n",
      "700 nan [ nan] [ nan]\n",
      "800 nan [ nan] [ nan]\n",
      "900 nan [ nan] [ nan]\n",
      "1000 nan [ nan] [ nan]\n",
      "1100 nan [ nan] [ nan]\n",
      "1200 nan [ nan] [ nan]\n",
      "1300 nan [ nan] [ nan]\n",
      "1400 nan [ nan] [ nan]\n",
      "1500 nan [ nan] [ nan]\n",
      "1600 nan [ nan] [ nan]\n",
      "1700 nan [ nan] [ nan]\n",
      "1800 nan [ nan] [ nan]\n",
      "1900 nan [ nan] [ nan]\n",
      "2000 nan [ nan] [ nan]\n",
      "2100 nan [ nan] [ nan]\n",
      "2200 nan [ nan] [ nan]\n",
      "2300 nan [ nan] [ nan]\n",
      "2400 nan [ nan] [ nan]\n",
      "2500 nan [ nan] [ nan]\n",
      "2600 nan [ nan] [ nan]\n",
      "2700 nan [ nan] [ nan]\n",
      "2800 nan [ nan] [ nan]\n",
      "2900 nan [ nan] [ nan]\n"
     ]
    }
   ],
   "source": [
    "import tensorflow as tf\n",
    "import numpy as np\n",
    "\n",
    "# 使用 NumPy 生成假数据(phony data), 总共 100 个点.\n",
    "x_data = np.float16(np.random.rand(100) * 10) # 随机输入\n",
    "y_data = x_data * 3.2 + 5.1\n",
    "\n",
    "# 构造一个线性模型\n",
    "# \n",
    "b = tf.Variable(tf.zeros([1]))\n",
    "W = tf.Variable(tf.zeros([1]))\n",
    "y = x_data * W + b\n",
    "\n",
    "# 最小化方差\n",
    "#loss = tf.reduce_mean(tf.square(y - y_data))\n",
    "loss = tf.reduce_sum(tf.pow(y_data - y, 2))\n",
    "train = tf.train.GradientDescentOptimizer(0.0001).minimize(loss)\n",
    "\n",
    "# 初始化变量\n",
    "init = tf.global_variables_initializer()\n",
    "\n",
    "# 启动图 (graph)\n",
    "sess = tf.Session()\n",
    "sess.run(init)\n",
    "\n",
    "# 拟合平面\n",
    "for step in range(0, 3000):\n",
    "    sess.run(train)\n",
    "    if step % 100 == 0:\n",
    "        print(step, sess.run(loss), sess.run(W), sess.run(b))"
   ]
  },
  {
   "cell_type": "code",
   "execution_count": null,
   "metadata": {
    "collapsed": true
   },
   "outputs": [],
   "source": []
  }
 ],
 "metadata": {
  "kernelspec": {
   "display_name": "Python 3",
   "language": "python",
   "name": "python3"
  },
  "language_info": {
   "codemirror_mode": {
    "name": "ipython",
    "version": 3
   },
   "file_extension": ".py",
   "mimetype": "text/x-python",
   "name": "python",
   "nbconvert_exporter": "python",
   "pygments_lexer": "ipython3",
   "version": "3.6.1"
  }
 },
 "nbformat": 4,
 "nbformat_minor": 1
}
