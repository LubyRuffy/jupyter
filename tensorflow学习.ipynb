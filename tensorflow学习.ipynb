{
 "cells": [
  {
   "cell_type": "markdown",
   "metadata": {},
   "source": [
    "# 入门\n",
    "### Hello World"
   ]
  },
  {
   "cell_type": "code",
   "execution_count": null,
   "metadata": {
    "collapsed": true
   },
   "outputs": [],
   "source": [
    "import tensorflow as tf\n",
    "c = tf.constant('hello')\n",
    "with tf.Session() as sess:\n",
    "    print(sess.run(c))"
   ]
  },
  {
   "cell_type": "markdown",
   "metadata": {},
   "source": [
    "### add与+的区别？\n",
    "实际上最终调用是一个函数，都到了gen_math_ops.add。\n",
    "tf.add直接调用库方法，+是重载了__add__符号，在tensorflow/python/ops/math_ops.py中定义了_OverrideBinaryOperatorHelper(gen_math_ops.add, \"add\")，也就是说最终还是调用了tf.add\n",
    "\n",
    "加载模块tensorflow/python/ops/math_ops.py\n",
    "```\n",
    "tensorflow/python/ops/math_ops.py： _OverrideBinaryOperatorHelper(gen_math_ops.add, \"add\") \n",
    "-> tensorflow/python/ops/math_ops.py： clazz_object._override_operator(\"__%s__\" % op_name, binary_op_wrapper) 在binary_op_wrapper中会实际调用gen_math_ops.add\n",
    "-> tensorflow/python/framework/ops.py： _override_helper(Tensor, operator, func)\n",
    "-> tensorflow/python/framework/ops.py： setattr(clazz_object, operator, func)\n",
    "```\n",
    "\n",
    "* Python 中的setattr有点像Ruby元编程中的动态方法，既可以是属性值，也可以是函数方法。setattr(obj, '__add__', add)也就是动态重载+运算符*\n",
    "\n",
    "所有重载的运算符在Tensor.OVERLOADABLE_OPERATORS:中进行了定义。\n",
    "\n",
    "参考：\n",
    "https://stackoverflow.com/questions/37900780/in-tensorflow-what-is-the-difference-between-tf-add-and-operator"
   ]
  },
  {
   "cell_type": "code",
   "execution_count": 20,
   "metadata": {},
   "outputs": [
    {
     "name": "stdout",
     "output_type": "stream",
     "text": [
      "3\n",
      "3\n"
     ]
    }
   ],
   "source": [
    "import tensorflow as tf\n",
    "a = tf.constant(1)\n",
    "b = tf.constant(2)\n",
    "with tf.Session() as sess:\n",
    "    print(sess.run(a+b))\n",
    "with tf.Session() as sess:\n",
    "    print(sess.run(tf.add(a,b)))"
   ]
  },
  {
   "cell_type": "markdown",
   "metadata": {
    "collapsed": true
   },
   "source": [
    "### 一个简单的线性模型"
   ]
  },
  {
   "cell_type": "code",
   "execution_count": 4,
   "metadata": {},
   "outputs": [
    {
     "name": "stdout",
     "output_type": "stream",
     "text": [
      "0 [[-0.10845557  0.80493349]] [ 0.21462715]\n",
      "20 [[ 0.06473533  0.35856053]] [ 0.23327331]\n",
      "40 [[ 0.0984279   0.24692839]] [ 0.27515358]\n",
      "60 [[ 0.10159053  0.2144341 ]] [ 0.29116544]\n",
      "80 [[ 0.10097016  0.20456707]] [ 0.29693624]\n",
      "100 [[ 0.10041523  0.20147374]] [ 0.29895264]\n",
      "120 [[ 0.10015769  0.20048185]] [ 0.29964495]\n",
      "140 [[ 0.10005664  0.20015888]] [ 0.29988027]\n",
      "160 [[ 0.10001975  0.20005268]] [ 0.29995975]\n",
      "180 [[ 0.10000679  0.20001753]] [ 0.29998648]\n",
      "200 [[ 0.1000023   0.20000584]] [ 0.29999545]\n"
     ]
    }
   ],
   "source": [
    "import tensorflow as tf\n",
    "import numpy as np\n",
    "\n",
    "# 使用 NumPy 生成假数据(phony data), 总共 100 个点.\n",
    "x_data = np.float32(np.random.rand(2, 100)) # 随机输入\n",
    "y_data = np.dot([0.100, 0.200], x_data) + 0.300\n",
    "\n",
    "# 构造一个线性模型\n",
    "# \n",
    "b = tf.Variable(tf.zeros([1]))\n",
    "W = tf.Variable(tf.random_uniform([1, 2], -1.0, 1.0))\n",
    "y = tf.matmul(W, x_data) + b\n",
    "\n",
    "# 最小化方差\n",
    "loss = tf.reduce_mean(tf.square(y - y_data))\n",
    "optimizer = tf.train.GradientDescentOptimizer(0.5)\n",
    "train = optimizer.minimize(loss)\n",
    "\n",
    "# 初始化变量\n",
    "init = tf.global_variables_initializer()\n",
    "\n",
    "# 启动图 (graph)\n",
    "sess = tf.Session()\n",
    "sess.run(init)\n",
    "\n",
    "# 拟合平面\n",
    "for step in range(0, 201):\n",
    "    sess.run(train)\n",
    "    if step % 20 == 0:\n",
    "        print(step, sess.run(W), sess.run(b))"
   ]
  },
  {
   "cell_type": "code",
   "execution_count": null,
   "metadata": {
    "collapsed": true
   },
   "outputs": [],
   "source": []
  }
 ],
 "metadata": {
  "kernelspec": {
   "display_name": "Python 3",
   "language": "python",
   "name": "python3"
  },
  "language_info": {
   "codemirror_mode": {
    "name": "ipython",
    "version": 3
   },
   "file_extension": ".py",
   "mimetype": "text/x-python",
   "name": "python",
   "nbconvert_exporter": "python",
   "pygments_lexer": "ipython3",
   "version": "3.6.1"
  }
 },
 "nbformat": 4,
 "nbformat_minor": 2
}
