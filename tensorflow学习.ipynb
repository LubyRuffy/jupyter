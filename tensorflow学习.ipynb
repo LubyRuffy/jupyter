{
 "cells": [
  {
   "cell_type": "markdown",
   "metadata": {},
   "source": [
    "# 入门\n",
    "### Hello World"
   ]
  },
  {
   "cell_type": "code",
   "execution_count": null,
   "metadata": {
    "collapsed": true
   },
   "outputs": [],
   "source": [
    "import tensorflow as tf\n",
    "c = tf.constant('hello')\n",
    "with tf.Session() as sess:\n",
    "    print(sess.run(c))"
   ]
  },
  {
   "cell_type": "markdown",
   "metadata": {},
   "source": [
    "### add与+的区别？\n",
    "实际上最终调用是一个函数，都到了gen_math_ops.add。\n",
    "tf.add直接调用库方法，+是重载了__add__符号，在tensorflow/python/ops/math_ops.py中定义了_OverrideBinaryOperatorHelper(gen_math_ops.add, \"add\")，也就是说最终还是调用了tf.add\n",
    "\n",
    "加载模块tensorflow/python/ops/math_ops.py\n",
    "```\n",
    "tensorflow/python/ops/math_ops.py： _OverrideBinaryOperatorHelper(gen_math_ops.add, \"add\") \n",
    "-> tensorflow/python/ops/math_ops.py： clazz_object._override_operator(\"__%s__\" % op_name, binary_op_wrapper) 在binary_op_wrapper中会实际调用gen_math_ops.add\n",
    "-> tensorflow/python/framework/ops.py： _override_helper(Tensor, operator, func)\n",
    "-> tensorflow/python/framework/ops.py： setattr(clazz_object, operator, func)\n",
    "```\n",
    "\n",
    "* Python 中的setattr有点像Ruby元编程中的动态方法，既可以是属性值，也可以是函数方法。setattr(obj, '__add__', add)也就是动态重载+运算符*\n",
    "\n",
    "所有重载的运算符在Tensor.OVERLOADABLE_OPERATORS:中进行了定义。\n",
    "\n",
    "参考：\n",
    "https://stackoverflow.com/questions/37900780/in-tensorflow-what-is-the-difference-between-tf-add-and-operator"
   ]
  },
  {
   "cell_type": "code",
   "execution_count": 20,
   "metadata": {},
   "outputs": [
    {
     "name": "stdout",
     "output_type": "stream",
     "text": [
      "3\n",
      "3\n"
     ]
    }
   ],
   "source": [
    "import tensorflow as tf\n",
    "a = tf.constant(1)\n",
    "b = tf.constant(2)\n",
    "with tf.Session() as sess:\n",
    "    print(sess.run(a+b))\n",
    "with tf.Session() as sess:\n",
    "    print(sess.run(tf.add(a,b)))"
   ]
  },
  {
   "cell_type": "markdown",
   "metadata": {
    "collapsed": true
   },
   "source": [
    "### 一个简单的线性模型"
   ]
  },
  {
   "cell_type": "code",
   "execution_count": 32,
   "metadata": {},
   "outputs": [
    {
     "name": "stdout",
     "output_type": "stream",
     "text": [
      "0 41.2291 [ 2.87978077] [ 0.44146872]\n",
      "100 1.903 [ 3.61912918] [ 2.22529006]\n",
      "200 0.77168 [ 3.46652532] [ 3.27014828]\n",
      "300 0.312936 [ 3.36934972] [ 3.93549657]\n",
      "400 0.126919 [ 3.30747008] [ 4.3591795]\n",
      "500 0.05149 [ 3.26806617] [ 4.62897301]\n",
      "600 0.0209043 [ 3.24297452] [ 4.80077219]\n",
      "700 0.00850202 [ 3.22699666] [ 4.91017056]\n",
      "800 0.00347274 [ 3.21682167] [ 4.97983694]\n",
      "900 0.00143349 [ 3.21034265] [ 5.02419758]\n",
      "1000 0.000606607 [ 3.20621705] [ 5.05244541]\n",
      "1100 0.000271311 [ 3.20358992] [ 5.07043266]\n",
      "1200 0.000135351 [ 3.20191717] [ 5.08188581]\n",
      "1300 8.02121e-05 [ 3.20085192] [ 5.08918047]\n",
      "1400 5.78552e-05 [ 3.20017362] [ 5.09382439]\n",
      "1500 4.87819e-05 [ 3.19974136] [ 5.09678316]\n",
      "1600 4.51038e-05 [ 3.19946623] [ 5.09866762]\n",
      "1700 4.36151e-05 [ 3.19929123] [ 5.09986591]\n",
      "1800 4.30103e-05 [ 3.19917941] [ 5.10063028]\n",
      "1900 4.27641e-05 [ 3.1991086] [ 5.10111618]\n",
      "2000 4.2667e-05 [ 3.1990633] [ 5.10142565]\n",
      "2100 4.26256e-05 [ 3.19903445] [ 5.10162258]\n",
      "2200 4.2608e-05 [ 3.19901657] [ 5.10174561]\n",
      "2300 4.2603e-05 [ 3.19900489] [ 5.10182667]\n",
      "2400 4.26002e-05 [ 3.19899797] [ 5.10187435]\n",
      "2500 4.25966e-05 [ 3.19899178] [ 5.10191631]\n",
      "2600 4.25966e-05 [ 3.19899178] [ 5.10191631]\n",
      "2700 4.25966e-05 [ 3.19899178] [ 5.10191631]\n",
      "2800 4.25966e-05 [ 3.19899178] [ 5.10191631]\n",
      "2900 4.25966e-05 [ 3.19899178] [ 5.10191631]\n"
     ]
    }
   ],
   "source": [
    "import tensorflow as tf\n",
    "import numpy as np\n",
    "\n",
    "x_data = np.float16(np.random.rand(100) * 10) # 随机输入\n",
    "y_data = x_data * 3.2 + 5.1\n",
    "\n",
    "# 构造一个线性模型\n",
    "b = tf.Variable(tf.zeros([1]))\n",
    "W = tf.Variable(tf.zeros([1]))\n",
    "y = x_data * W + b\n",
    "\n",
    "# 优化器的rate跟什么相关？直接取决于损失函数 。比如tf.reduce_mean(tf.square(y - y_data))对应0.01，而tf.reduce_sum(tf.pow(y_data - y, 2))对应0.0001\n",
    "# 平方差，tf.reduce_mean对应平均值\n",
    "loss = tf.reduce_mean(tf.square(y - y_data))\n",
    "# 二次方幂差，tf.reduce_sum求和\n",
    "#loss = tf.reduce_sum(tf.pow(y_data - y, 2)) \n",
    "# rate看上面用哪个而定\n",
    "train = tf.train.GradientDescentOptimizer(0.01).minimize(loss)\n",
    "\n",
    "# 初始化变量\n",
    "init = tf.global_variables_initializer()\n",
    "\n",
    "# 启动图 (graph)\n",
    "sess = tf.Session()\n",
    "sess.run(init)\n",
    "\n",
    "# 拟合平面\n",
    "for step in range(0, 3000):\n",
    "    sess.run(train)\n",
    "    if step % 100 == 0:\n",
    "        print(step, sess.run(loss), sess.run(W), sess.run(b))"
   ]
  },
  {
   "cell_type": "code",
   "execution_count": null,
   "metadata": {
    "collapsed": true
   },
   "outputs": [],
   "source": []
  }
 ],
 "metadata": {
  "kernelspec": {
   "display_name": "Python 3",
   "language": "python",
   "name": "python3"
  },
  "language_info": {
   "codemirror_mode": {
    "name": "ipython",
    "version": 3
   },
   "file_extension": ".py",
   "mimetype": "text/x-python",
   "name": "python",
   "nbconvert_exporter": "python",
   "pygments_lexer": "ipython3",
   "version": "3.6.1"
  }
 },
 "nbformat": 4,
 "nbformat_minor": 1
}
