{
 "cells": [
  {
   "cell_type": "markdown",
   "metadata": {},
   "source": [
    "# numpy学习\n",
    "\n",
    "## 常见任务\n"
   ]
  },
  {
   "cell_type": "code",
   "execution_count": 7,
   "metadata": {},
   "outputs": [
    {
     "data": {
      "text/plain": [
       "array([[[ 0.45576527,  0.61107561,  0.77585093,  0.27374686],\n",
       "        [ 0.02897471,  0.58775591,  0.1550924 ,  0.53944351],\n",
       "        [ 0.56777793,  0.71034739,  0.72092113,  0.06153111]],\n",
       "\n",
       "       [[ 0.99874211,  0.86453775,  0.92165584,  0.63795419],\n",
       "        [ 0.30197661,  0.27278644,  0.86538664,  0.66222041],\n",
       "        [ 0.53334435,  0.388333  ,  0.18539925,  0.96872101]]])"
      ]
     },
     "execution_count": 7,
     "metadata": {},
     "output_type": "execute_result"
    }
   ],
   "source": [
    "# 生成N维随机数组\n",
    "import numpy as np\n",
    "np.random.rand(2,3,4)\n",
    "# numpy.random.rand\n",
    "# 生成随机的指定维度形状，参数可选，默认为单个float数值。数值从0到1之间\n",
    "# Random values in a given shape.\n",
    "# Create an array of the given shape and populate it with random samples from a uniform distribution over [0, 1).\n",
    "# https://docs.scipy.org/doc/numpy/reference/generated/numpy.random.rand.html"
   ]
  },
  {
   "cell_type": "code",
   "execution_count": null,
   "metadata": {
    "collapsed": true
   },
   "outputs": [],
   "source": [
    ""
   ]
  }
 ],
 "metadata": {
  "kernelspec": {
   "display_name": "Python 3",
   "language": "python",
   "name": "python3"
  },
  "language_info": {
   "codemirror_mode": {
    "name": "ipython",
    "version": 3.0
   },
   "file_extension": ".py",
   "mimetype": "text/x-python",
   "name": "python",
   "nbconvert_exporter": "python",
   "pygments_lexer": "ipython3",
   "version": "3.6.1"
  }
 },
 "nbformat": 4,
 "nbformat_minor": 0
}